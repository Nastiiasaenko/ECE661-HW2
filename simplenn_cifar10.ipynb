{
  "cells": [
    {
      "cell_type": "markdown",
      "metadata": {
        "id": "view-in-github",
        "colab_type": "text"
      },
      "source": [
        "<a href=\"https://colab.research.google.com/github/Nastiiasaenko/ECE661-HW2/blob/main/simplenn_cifar10.ipynb\" target=\"_parent\"><img src=\"https://colab.research.google.com/assets/colab-badge.svg\" alt=\"Open In Colab\"/></a>"
      ]
    },
    {
      "cell_type": "markdown",
      "metadata": {
        "id": "UNmxYPnJ35nh"
      },
      "source": [
        "# Training SimpleNN on CIFAR-10\n",
        "In this project, you will use the SimpleNN model to perform image classification on CIFAR-10. CIFAR-10 orginally contains 60K images from 10 categories. We split it into 45K/5K/10K images to serve as train/valiation/test set. We only release the ground-truth labels of training/validation dataset to you."
      ]
    },
    {
      "cell_type": "markdown",
      "metadata": {
        "id": "d_WPc7ej35nj"
      },
      "source": [
        "## Step 0: Set up the SimpleNN model\n",
        "As you have practiced to implement simple neural networks in Homework 1, we just prepare the implementation for you."
      ]
    },
    {
      "cell_type": "code",
      "source": [
        "!git clone https://github.com/Nastiiasaenko/ECE661-HW2.git"
      ],
      "metadata": {
        "colab": {
          "base_uri": "https://localhost:8080/"
        },
        "id": "hzDONsvN_l3v",
        "outputId": "b94e0d4f-61b7-440b-812a-0e8b9343a273"
      },
      "execution_count": 58,
      "outputs": [
        {
          "output_type": "stream",
          "name": "stdout",
          "text": [
            "Cloning into 'ECE661-HW2'...\n",
            "remote: Enumerating objects: 20, done.\u001b[K\n",
            "remote: Counting objects: 100% (20/20), done.\u001b[K\n",
            "remote: Compressing objects: 100% (17/17), done.\u001b[K\n",
            "remote: Total 20 (delta 4), reused 3 (delta 0), pack-reused 0 (from 0)\u001b[K\n",
            "Receiving objects: 100% (20/20), 15.76 KiB | 7.88 MiB/s, done.\n",
            "Resolving deltas: 100% (4/4), done.\n"
          ]
        }
      ]
    },
    {
      "cell_type": "code",
      "source": [
        "%cd ECE661-HW2/"
      ],
      "metadata": {
        "colab": {
          "base_uri": "https://localhost:8080/"
        },
        "id": "EQvBlxMW_9w-",
        "outputId": "bbf24d85-7e5e-44aa-8643-b4f8edc3ba16"
      },
      "execution_count": 59,
      "outputs": [
        {
          "output_type": "stream",
          "name": "stdout",
          "text": [
            "/content/ECE661-HW2/ECE661-HW2/ECE661-HW2\n"
          ]
        }
      ]
    },
    {
      "cell_type": "code",
      "source": [
        "## Some additional libraries used in this notebook\n",
        "!pip install tqdm\n",
        "!pip install torchsummary\n"
      ],
      "metadata": {
        "colab": {
          "base_uri": "https://localhost:8080/"
        },
        "id": "hITkOrH_486O",
        "outputId": "3d491500-263e-40e8-9e40-fa8a1e3fe7ed"
      },
      "execution_count": 60,
      "outputs": [
        {
          "output_type": "stream",
          "name": "stdout",
          "text": [
            "Requirement already satisfied: tqdm in /usr/local/lib/python3.10/dist-packages (4.66.5)\n",
            "Requirement already satisfied: torchsummary in /usr/local/lib/python3.10/dist-packages (1.5.1)\n"
          ]
        }
      ]
    },
    {
      "cell_type": "code",
      "source": [
        "import tqdm"
      ],
      "metadata": {
        "id": "ldhmBgBo5Cpp"
      },
      "execution_count": 61,
      "outputs": []
    },
    {
      "cell_type": "code",
      "execution_count": 62,
      "metadata": {
        "id": "asIATG1035nj"
      },
      "outputs": [],
      "source": [
        "# import necessary dependencies\n",
        "import argparse\n",
        "import os, sys\n",
        "import time\n",
        "import datetime\n",
        "from tqdm import tqdm_notebook as tqdm\n",
        "\n",
        "import torch\n",
        "import torch.nn as nn\n",
        "import torch.nn.functional as F"
      ]
    },
    {
      "cell_type": "code",
      "execution_count": 63,
      "metadata": {
        "id": "t4DUHsR935nj"
      },
      "outputs": [],
      "source": [
        "# define the SimpleNN mode;\n",
        "class SimpleNN(nn.Module):\n",
        "    def __init__(self):\n",
        "        super(SimpleNN, self).__init__()\n",
        "        self.conv1 = nn.Conv2d(3, 8, 5)\n",
        "        self.conv2 = nn.Conv2d(8, 16, 3)\n",
        "        self.fc1   = nn.Linear(16*6*6, 120)\n",
        "        self.fc2   = nn.Linear(120, 84)\n",
        "        self.fc3   = nn.Linear(84, 10)\n",
        "\n",
        "    def forward(self, x):\n",
        "        out = F.relu(self.conv1(x))\n",
        "        out = F.max_pool2d(out, 2)\n",
        "        out = F.relu(self.conv2(out))\n",
        "        out = F.max_pool2d(out, 2)\n",
        "        out = out.view(out.size(0), -1)\n",
        "        out = F.relu(self.fc1(out))\n",
        "        out = F.relu(self.fc2(out))\n",
        "        out = self.fc3(out)\n",
        "        return out"
      ]
    },
    {
      "cell_type": "markdown",
      "metadata": {
        "id": "ap9Fw5cI35nk"
      },
      "source": [
        "### Question (a)\n",
        "Here is a sanity check to verify the implementation of SimpleNN.\n",
        "You need to:\n",
        "1. Write down your code.\n",
        "2. **In the PDF report**, give a brief description on how the code helps you know that SimpleNN is implemented correctly."
      ]
    },
    {
      "cell_type": "code",
      "execution_count": 64,
      "metadata": {
        "colab": {
          "base_uri": "https://localhost:8080/"
        },
        "id": "mFEIgdY535nk",
        "outputId": "2c9cdfdb-cb6c-4a6a-bb61-5b7fae2f5c65"
      },
      "outputs": [
        {
          "output_type": "stream",
          "name": "stdout",
          "text": [
            "torch.Size([1, 10])\n"
          ]
        }
      ],
      "source": [
        "#############################################\n",
        "# your code here\n",
        "# sanity check for the correctness of SimpleNN\n",
        "nn_model = SimpleNN()\n",
        "sample_output = torch.randn(1, 3, 32, 32) # Batch size of 1, with CIFAR-10 image dimensions\n",
        "output = nn_model(sample_output)\n",
        "print(output.size())\n",
        "\n",
        "\n",
        "#############################################"
      ]
    },
    {
      "cell_type": "markdown",
      "source": [
        "**Question (a) answer**: The expected output shape should be (1, 10), as there are 10 classes in the CIFAR-10 dataset.\n",
        "\n",
        "##### Step 2.\n",
        "Count the total number\n",
        "of parameters of all conv/FC layers and see if it meets your expectation."
      ],
      "metadata": {
        "id": "Le58QTs16joG"
      }
    },
    {
      "cell_type": "code",
      "source": [
        "total_params = 0\n",
        "for name, param in nn_model.named_parameters():\n",
        "    if param.requires_grad:\n",
        "        layer_params = param.numel()\n",
        "        print(f\"Layer {name} has {layer_params} parameters\")\n",
        "        total_params += layer_params\n",
        "\n",
        "print(f\"Total number of parameters: {total_params}\")\n",
        "\n"
      ],
      "metadata": {
        "colab": {
          "base_uri": "https://localhost:8080/"
        },
        "id": "56pdE0ua61Ei",
        "outputId": "0c00b190-6d7b-4ee2-95c0-937df7756bd1"
      },
      "execution_count": 65,
      "outputs": [
        {
          "output_type": "stream",
          "name": "stdout",
          "text": [
            "Layer conv1.weight has 600 parameters\n",
            "Layer conv1.bias has 8 parameters\n",
            "Layer conv2.weight has 1152 parameters\n",
            "Layer conv2.bias has 16 parameters\n",
            "Layer fc1.weight has 69120 parameters\n",
            "Layer fc1.bias has 120 parameters\n",
            "Layer fc2.weight has 10080 parameters\n",
            "Layer fc2.bias has 84 parameters\n",
            "Layer fc3.weight has 840 parameters\n",
            "Layer fc3.bias has 10 parameters\n",
            "Total number of parameters: 82030\n"
          ]
        }
      ]
    },
    {
      "cell_type": "markdown",
      "metadata": {
        "id": "F791zaqp35nk"
      },
      "source": [
        "## Step 1: Set up preprocessing functions\n",
        "Preprocessing is very important as discussed in the lecture.\n",
        "You will need to write preprocessing functions with the help of *torchvision.transforms* in this step.\n",
        "You can find helpful tutorial/API at [here](https://pytorch.org/vision/stable/transforms.html)."
      ]
    },
    {
      "cell_type": "markdown",
      "metadata": {
        "id": "tgk6gMyy35nk"
      },
      "source": [
        "### Question (b)\n",
        "For the question, you need to:\n",
        "1. Complete the preprocessing code below.\n",
        "2. **In the PDF report**, briefly describe what preprocessing operations you used and what are the purposes of them.\n",
        "\n",
        "Hint:\n",
        "1. Only two operations are necessary to complete the basic preprocessing here.\n",
        "2. The raw input read from the dataset will be PIL images.\n",
        "3. Data augmentation operations are not mendatory, but feel free to incorporate them if you want.\n",
        "4. Reference value for mean/std of CIFAR-10 images (assuming the pixel values are within [0,1]): mean (RGB-format): (0.4914, 0.4822, 0.4465), std (RGB-format): (0.2023, 0.1994, 0.2010)"
      ]
    },
    {
      "cell_type": "code",
      "execution_count": 66,
      "metadata": {
        "id": "qo8dVETn35nk"
      },
      "outputs": [],
      "source": [
        "# useful libraries\n",
        "import torchvision\n",
        "import torchvision.transforms as transforms\n",
        "\n",
        "#############################################\n",
        "# your code here\n",
        "# specify preprocessing function\n",
        "#The mean and standard deviation values for the CIFAR-10 dataset—(0.4914, 0.4822, 0.4465)\n",
        "# for the mean and (0.2023, 0.1994, 0.2010) for the standard deviation\n",
        "mean = (0.4914, 0.4822, 0.4465)\n",
        "std = (0.2023, 0.1994, 0.2010)\n",
        "transform_train =  transforms.Compose([\n",
        "    transforms.ToTensor(),\n",
        "    transforms.Normalize(mean, std)\n",
        "])\n",
        "\n",
        "transform_val =  transforms.Compose([\n",
        "    transforms.ToTensor(),\n",
        "    transforms.Normalize(mean, std)\n",
        "])\n",
        "#############################################"
      ]
    },
    {
      "cell_type": "markdown",
      "metadata": {
        "id": "ru8HKSlQ35nk"
      },
      "source": [
        "## Step 2: Set up dataset and dataloader\n",
        "\n",
        "### Question (c)\n",
        "Set up the train/val datasets and dataloders that are to be used during the training. Check out the [official API](https://pytorch.org/docs/stable/data.html) for more information about **torch.utils.data.DataLoader**.\n",
        "\n",
        "Here, you need to:\n",
        "1. Complete the code below."
      ]
    },
    {
      "cell_type": "code",
      "execution_count": 67,
      "metadata": {
        "colab": {
          "base_uri": "https://localhost:8080/"
        },
        "id": "3KP_tI1135nk",
        "outputId": "66dc2379-d021-404f-bb09-1eb181ff52e9"
      },
      "outputs": [
        {
          "output_type": "stream",
          "name": "stdout",
          "text": [
            "Downloading https://www.dropbox.com/s/s8orza214q45b23/cifar10_trainval_F22.zip?dl=1 to ./data/cifar10_trainval_F22.zip\n"
          ]
        },
        {
          "output_type": "stream",
          "name": "stderr",
          "text": [
            "141746176it [00:11, 12069629.39it/s]                               \n"
          ]
        },
        {
          "output_type": "stream",
          "name": "stdout",
          "text": [
            "Extracting ./data/cifar10_trainval_F22.zip to ./data\n",
            "Files already downloaded and verified\n",
            "Using downloaded and verified file: ./data/cifar10_trainval_F22.zip\n",
            "Extracting ./data/cifar10_trainval_F22.zip to ./data\n",
            "Files already downloaded and verified\n"
          ]
        }
      ],
      "source": [
        "# do NOT change these\n",
        "from tools.dataset import CIFAR10\n",
        "from torch.utils.data import DataLoader\n",
        "\n",
        "# a few arguments, do NOT change these\n",
        "DATA_ROOT = \"./data\"\n",
        "TRAIN_BATCH_SIZE = 128\n",
        "VAL_BATCH_SIZE = 100\n",
        "\n",
        "#############################################\n",
        "# your code here\n",
        "# construct dataset\n",
        "train_set = CIFAR10(\n",
        "    root=DATA_ROOT,\n",
        "    mode='train',\n",
        "    download=True,\n",
        "    transform= transform_train    # your code\n",
        ")\n",
        "val_set = CIFAR10(\n",
        "    root=DATA_ROOT,\n",
        "    mode='val',\n",
        "    download=True,\n",
        "    transform= transform_val  # your code\n",
        ")\n",
        "\n",
        "# construct dataloader\n",
        "train_loader = DataLoader(\n",
        "    train_set,\n",
        "    batch_size = TRAIN_BATCH_SIZE,  # your code\n",
        "    shuffle=True,     # your code\n",
        "    num_workers=4\n",
        ")\n",
        "val_loader = DataLoader(\n",
        "    val_set,\n",
        "    batch_size=VAL_BATCH_SIZE,  # your code\n",
        "    shuffle=False,     # your code\n",
        "    num_workers=4\n",
        ")\n",
        "#############################################"
      ]
    },
    {
      "cell_type": "markdown",
      "metadata": {
        "id": "xDArGw-335nl"
      },
      "source": [
        "## Step 3: Instantiate your SimpleNN model and deploy it to GPU devices.\n",
        "### Question (d)\n",
        "You may want to deploy your model to GPU device for efficient training. Please assign your model to GPU if possible. If you are training on a machine without GPUs, please deploy your model to CPUs.\n",
        "\n",
        "Here, you need to:\n",
        "1. Complete the code below.\n",
        "2. **In the PDF report**, briefly describe how you verify that your model is indeed deployed on GPU. (Hint: check $\\texttt{nvidia-smi}$.)"
      ]
    },
    {
      "cell_type": "code",
      "execution_count": 68,
      "metadata": {
        "colab": {
          "base_uri": "https://localhost:8080/"
        },
        "id": "cCnAyP1L35nl",
        "outputId": "3e0a4605-304e-4bfb-b2cc-d19aa0f45dd7"
      },
      "outputs": [
        {
          "output_type": "stream",
          "name": "stdout",
          "text": [
            "Sun Oct  6 23:00:00 2024       \n",
            "+---------------------------------------------------------------------------------------+\n",
            "| NVIDIA-SMI 535.104.05             Driver Version: 535.104.05   CUDA Version: 12.2     |\n",
            "|-----------------------------------------+----------------------+----------------------+\n",
            "| GPU  Name                 Persistence-M | Bus-Id        Disp.A | Volatile Uncorr. ECC |\n",
            "| Fan  Temp   Perf          Pwr:Usage/Cap |         Memory-Usage | GPU-Util  Compute M. |\n",
            "|                                         |                      |               MIG M. |\n",
            "|=========================================+======================+======================|\n",
            "|   0  NVIDIA A100-SXM4-40GB          Off | 00000000:00:04.0 Off |                    0 |\n",
            "| N/A   31C    P0              51W / 400W |    425MiB / 40960MiB |      0%      Default |\n",
            "|                                         |                      |             Disabled |\n",
            "+-----------------------------------------+----------------------+----------------------+\n",
            "                                                                                         \n",
            "+---------------------------------------------------------------------------------------+\n",
            "| Processes:                                                                            |\n",
            "|  GPU   GI   CI        PID   Type   Process name                            GPU Memory |\n",
            "|        ID   ID                                                             Usage      |\n",
            "|=======================================================================================|\n",
            "+---------------------------------------------------------------------------------------+\n"
          ]
        }
      ],
      "source": [
        "# specify the device for computation\n",
        "#############################################\n",
        "!nvidia-smi\n"
      ]
    },
    {
      "cell_type": "code",
      "source": [
        "def check_gpu_availability():\n",
        "    import torch\n",
        "    if torch.cuda.is_available():\n",
        "        total_gpus = torch.cuda.device_count()\n",
        "        print(f\"GPU(s) found: {total_gpus} device(s) detected.\")\n",
        "\n",
        "        for idx in range(total_gpus):\n",
        "            gpu_name = torch.cuda.get_device_name(idx)\n",
        "            print(f\"GPU {idx}: {gpu_name}\")\n",
        "    else:\n",
        "        print(\"No GPU found. CUDA is not available.\")\n",
        "\n",
        "check_gpu_availability()\n",
        "\n"
      ],
      "metadata": {
        "colab": {
          "base_uri": "https://localhost:8080/"
        },
        "id": "-8X17gMRCa-q",
        "outputId": "45c09c98-04be-4705-d9d1-75519f75bbcb"
      },
      "execution_count": 69,
      "outputs": [
        {
          "output_type": "stream",
          "name": "stdout",
          "text": [
            "GPU(s) found: 1 device(s) detected.\n",
            "GPU 0: NVIDIA A100-SXM4-40GB\n"
          ]
        }
      ]
    },
    {
      "cell_type": "code",
      "source": [
        "device = torch.device(\"cuda\" if torch.cuda.is_available() else \"cpu\")\n",
        "model = SimpleNN().to(device)\n",
        "print(f\"Model deployed on: {device}\")\n"
      ],
      "metadata": {
        "colab": {
          "base_uri": "https://localhost:8080/"
        },
        "id": "DU7AO3zFDwnA",
        "outputId": "cebe22c4-cf56-4de5-be17-8691924c840e"
      },
      "execution_count": 70,
      "outputs": [
        {
          "output_type": "stream",
          "name": "stdout",
          "text": [
            "Model deployed on: cuda\n"
          ]
        }
      ]
    },
    {
      "cell_type": "markdown",
      "metadata": {
        "id": "N6AYKqkp35nl"
      },
      "source": [
        "## Step 4: Set up the loss function and optimizer\n",
        "Loss function/objective function is used to provide \"feedback\" for the neural networks. Typically, we use multi-class cross-entropy as the loss function for classification models. As for the optimizer, we will use SGD with momentum."
      ]
    },
    {
      "cell_type": "markdown",
      "metadata": {
        "id": "2m8jViPU35nl"
      },
      "source": [
        "### Question (e)\n",
        "Here, you need to:\n",
        "1. Set up the cross-entropy loss as the criterion. (Hint: there are implemented functions in **torch.nn**)\n",
        "2. Specify a SGD optimizer with momentum. (Hint: there are implemented functions in **torch.optim**)"
      ]
    },
    {
      "cell_type": "code",
      "execution_count": 71,
      "metadata": {
        "id": "9n_UQxAU35nl"
      },
      "outputs": [],
      "source": [
        "import torch.nn as nn\n",
        "import torch.optim as optim\n",
        "\n",
        "model = SimpleNN().to(device)\n",
        "\n",
        "# hyperparameters, do NOT change right now\n",
        "# initial learning rate\n",
        "\n",
        "INITIAL_LR = 0.01\n",
        "\n",
        "# momentum for optimizer\n",
        "MOMENTUM = 0.9\n",
        "\n",
        "# L2 regularization strength\n",
        "REG = 1e-4\n",
        "\n",
        "#############################################\n",
        "# your code here\n",
        "# create loss function\n",
        "criterion = nn.CrossEntropyLoss()\n",
        "\n",
        "# Add optimizer\n",
        "optimizer = optim.SGD(model.parameters(), lr=INITIAL_LR, momentum=MOMENTUM, weight_decay=REG)\n",
        "#############################################"
      ]
    },
    {
      "cell_type": "markdown",
      "metadata": {
        "id": "MtDIgqqI35nl"
      },
      "source": [
        "## Step 5: Start the training process.\n",
        "\n",
        "### Question (f)/(g)\n",
        "Congratulations! You have completed all of the previous steps and it is time to train our neural network.\n",
        "\n",
        "Here you need to:\n",
        "1. Complete the training codes.\n",
        "2. Actually perform the training.\n",
        "\n",
        "Hint: Training a neural network usually repeats the following 4 steps:\n",
        "\n",
        "**i) Get a batch of data from the dataloader and copy it to your device (GPU).**\n",
        "\n",
        "**ii) Do a forward pass to get the outputs from the neural network and compute the loss. Be careful about your inputs to the loss function. Are the inputs required to be the logits or softmax probabilities?)**\n",
        "\n",
        "**iii) Do a backward pass (back-propagation) to compute gradients of all weights with respect to the loss.**\n",
        "\n",
        "**iiii) Update the model weights with the optimizer.**\n",
        "\n",
        "You will also need to compute the accuracy of training/validation samples to track your model's performance over each epoch (the accuracy should be increasing as you train for more and more epochs).\n"
      ]
    },
    {
      "cell_type": "code",
      "execution_count": null,
      "metadata": {
        "id": "GUSMH1L_35nl"
      },
      "outputs": [],
      "source": [
        "# some hyperparameters\n",
        "# total number of training epochs\n",
        "EPOCHS = 30\n",
        "\n",
        "# the folder where the trained model is saved\n",
        "CHECKPOINT_FOLDER = \"./saved_model\"\n",
        "\n",
        "# start the training/validation process\n",
        "# the process should take about 5 minutes on a GTX 1070-Ti\n",
        "# if the code is written efficiently.\n",
        "best_val_acc = 0\n",
        "current_learning_rate = INITIAL_LR\n",
        "\n",
        "print(\"==> Training starts!\")\n",
        "print(\"=\"*50)\n",
        "for i in range(0, EPOCHS):\n",
        "    #######################\n",
        "    # your code here\n",
        "    # switch to train mode\n",
        "\n",
        "\n",
        "    #######################\n",
        "\n",
        "    print(\"Epoch %d:\" %i)\n",
        "    # this help you compute the training accuracy\n",
        "    total_examples = 0\n",
        "    correct_examples = 0\n",
        "\n",
        "    train_loss = 0 # track training loss if you want\n",
        "\n",
        "    # Train the model for 1 epoch.\n",
        "    for batch_idx, (inputs, targets) in enumerate(train_loader):\n",
        "        ####################################\n",
        "        # your code here\n",
        "        # copy inputs to device\n",
        "\n",
        "\n",
        "        # compute the output and loss\n",
        "\n",
        "\n",
        "        # zero the gradient\n",
        "\n",
        "\n",
        "        # backpropagation\n",
        "\n",
        "\n",
        "        # apply gradient and update the weights\n",
        "\n",
        "\n",
        "        # count the number of correctly predicted samples in the current batch\n",
        "\n",
        "        ####################################\n",
        "\n",
        "    avg_loss = train_loss / len(train_loader)\n",
        "    avg_acc = correct_examples / total_examples\n",
        "    print(\"Training loss: %.4f, Training accuracy: %.4f\" %(avg_loss, avg_acc))\n",
        "\n",
        "    # Validate on the validation dataset\n",
        "    #######################\n",
        "    # your code here\n",
        "    # switch to eval mode\n",
        "\n",
        "\n",
        "    #######################\n",
        "\n",
        "    # this help you compute the validation accuracy\n",
        "    total_examples = 0\n",
        "    correct_examples = 0\n",
        "\n",
        "    val_loss = 0 # again, track the validation loss if you want\n",
        "\n",
        "    # disable gradient during validation, which can save GPU memory\n",
        "    with torch.no_grad():\n",
        "        for batch_idx, (inputs, targets) in enumerate(val_loader):\n",
        "            ####################################\n",
        "            # your code here\n",
        "            # copy inputs to device\n",
        "\n",
        "\n",
        "            # compute the output and loss\n",
        "\n",
        "\n",
        "            # count the number of correctly predicted samples in the current batch\n",
        "\n",
        "            ####################################\n",
        "\n",
        "    avg_loss = val_loss / len(val_loader)\n",
        "    avg_acc = correct_examples / total_examples\n",
        "    print(\"Validation loss: %.4f, Validation accuracy: %.4f\" % (avg_loss, avg_acc))\n",
        "\n",
        "    # save the model checkpoint\n",
        "    if avg_acc > best_val_acc:\n",
        "        best_val_acc = avg_acc\n",
        "        #if not os.path.exists(CHECKPOINT_FOLDER):\n",
        "        #    os.makedirs(CHECKPOINT_FOLDER)\n",
        "        #print(\"Saving ...\")\n",
        "        #state = {'state_dict': net.state_dict(),\n",
        "        #         'epoch': i,\n",
        "        #         'lr': current_learning_rate}\n",
        "        #torch.save(state, os.path.join(CHECKPOINT_FOLDER, 'simplenn.pth'))\n",
        "\n",
        "    print('')\n",
        "\n",
        "print(\"=\"*50)\n",
        "print(f\"==> Optimization finished! Best validation accuracy: {best_val_acc:.4f}\")"
      ]
    },
    {
      "cell_type": "markdown",
      "metadata": {
        "id": "_v0d9FSx35nl"
      },
      "source": [
        "# Bonus: with learning rate decay\n",
        "\n",
        "The following code can help you adjust the learning rate during training. You need to figure out how to incorporate this code into your training loop.\n",
        "```python\n",
        "    if i % DECAY_EPOCHS == 0 and i != 0:\n",
        "        current_learning_rate = current_learning_rate * DECAY\n",
        "        for param_group in optimizer.param_groups:\n",
        "            param_group['lr'] = current_learning_rate\n",
        "        print(\"Current learning rate has decayed to %f\" %current_learning_rate)\n",
        "```"
      ]
    }
  ],
  "metadata": {
    "kernelspec": {
      "display_name": "Python 3",
      "name": "python3"
    },
    "language_info": {
      "codemirror_mode": {
        "name": "ipython",
        "version": 3
      },
      "file_extension": ".py",
      "mimetype": "text/x-python",
      "name": "python",
      "nbconvert_exporter": "python",
      "pygments_lexer": "ipython3",
      "version": "3.8.12"
    },
    "colab": {
      "provenance": [],
      "machine_shape": "hm",
      "gpuType": "A100",
      "include_colab_link": true
    },
    "accelerator": "GPU"
  },
  "nbformat": 4,
  "nbformat_minor": 0
}